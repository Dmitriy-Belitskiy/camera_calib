{
 "cells": [
  {
   "cell_type": "code",
   "execution_count": 1,
   "id": "63e777b7",
   "metadata": {},
   "outputs": [],
   "source": [
    "from scipy.spatial.transform import Rotation as R\n",
    "\n",
    "import numpy as np\n",
    "import matplotlib.pyplot as plt\n",
    "\n",
    "from scipy.optimize import least_squares"
   ]
  },
  {
   "cell_type": "code",
   "execution_count": 2,
   "id": "2072d762",
   "metadata": {},
   "outputs": [],
   "source": [
    "Z_min=0\n",
    "Z_max=180\n",
    "\n",
    "Z_1 = np.linspace(Z_min,Z_max,100)\n",
    "X_1 = np.ones(len(Z_1))*0\n",
    "Y_1 = np.ones(len(Z_1))*0\n",
    "\n",
    "\n",
    "Z_2 = np.linspace(Z_min,Z_max,100)\n",
    "X_2 = np.ones(len(Z_2))*0\n",
    "Y_2 = np.ones(len(Z_2))*0"
   ]
  },
  {
   "cell_type": "code",
   "execution_count": 3,
   "id": "d3b2bdeb",
   "metadata": {},
   "outputs": [],
   "source": [
    "rot_ang_1=np.vstack((X_1,Y_1,Z_1)).T\n",
    "rot_ang_2=np.vstack((X_2,Y_2,Z_2)).T"
   ]
  },
  {
   "cell_type": "code",
   "execution_count": 4,
   "id": "4ae60a54",
   "metadata": {},
   "outputs": [],
   "source": [
    "r1 = R.from_euler('xyz', rot_ang_1, degrees=True)\n",
    "r2 = R.from_euler('xyz', rot_ang_2, degrees=True)\n",
    "\n",
    "\n",
    "dat_1=r1.as_rotvec()\n",
    "\n",
    "dat_2=r2.as_rotvec()"
   ]
  },
  {
   "cell_type": "code",
   "execution_count": 5,
   "id": "31b85cb6",
   "metadata": {},
   "outputs": [],
   "source": [
    "def residuals(params, R_0):\n",
    "    N = R_0.shape[0]  # Number of cameras\n",
    "    x2, y2, z2 = params[:3]  # Tilt vector\n",
    "    phi, theta = params[3:5]  # Unit vector parameters\n",
    "    Rot = params[5:]  # Rotation angles for each camera\n",
    "    \n",
    "    e1 = np.sin(phi) * np.cos(theta)\n",
    "    e2 = np.sin(phi) * np.sin(theta)\n",
    "    e3 = np.cos(phi)\n",
    "    \n",
    "    residuals=[]\n",
    "    \n",
    "    for i in range(N):\n",
    "        \n",
    "        R_i = R_0[i]\n",
    "        x_0=np.array([x2,y2,z2])\n",
    "        e_0=np.array([e1,e2,e3])\n",
    "\n",
    "\n",
    "        r0 = R.from_rotvec(x_0)\n",
    "        r1 = R.from_rotvec(e_0*Rot[i])\n",
    "        \n",
    "        r3=r1*r0\n",
    "    \n",
    "        pred=r3.as_rotvec()\n",
    "        \n",
    "        residuals.append(R_i - pred)\n",
    "    \n",
    "    return np.array(residuals).flatten()\n",
    "\n",
    "def phi_to_e(phi,theta):\n",
    "    e1 = np.sin(phi) * np.cos(theta)\n",
    "    e2 = np.sin(phi) * np.sin(theta)\n",
    "    e3 = np.cos(phi)\n",
    "    return(np.array([e1,e2,e3]))"
   ]
  },
  {
   "cell_type": "code",
   "execution_count": 6,
   "id": "d2902e98",
   "metadata": {},
   "outputs": [],
   "source": [
    "# Initial guesses\n",
    "x2_init, y2_init, z2_init = 0.0, 0.0, 0.0\n",
    "phi_init, theta_init = np.pi/4, np.pi/4\n",
    "Rot_init = np.ones(dat_1.shape[0])\n",
    "\n",
    "params_init = np.hstack(([x2_init, y2_init, z2_init, phi_init, theta_init], Rot_init))"
   ]
  },
  {
   "cell_type": "code",
   "execution_count": 7,
   "id": "247a08e9",
   "metadata": {},
   "outputs": [],
   "source": [
    "result_R = least_squares(residuals, params_init, args=(dat_1,),\n",
    "                         method='trf',bounds=(-2 * np.pi, 2 * np.pi))\n",
    "\n",
    "result_L = least_squares(residuals, params_init, args=(dat_2,),\n",
    "                         method='trf',bounds=(-2 * np.pi, 2 * np.pi))"
   ]
  },
  {
   "cell_type": "code",
   "execution_count": 8,
   "id": "b3bb34cd",
   "metadata": {},
   "outputs": [],
   "source": [
    "x2_R, y2_R, z2_R = result_R.x[:3]\n",
    "phi_R, theta_R = result_R.x[3:5]\n",
    "Rot_R = result_R.x[5:]\n",
    "e_R = phi_to_e(phi_R,theta_R)\n",
    "\n",
    "\n",
    "\n",
    "x2_L, y2_L, z2_L = result_L.x[:3]\n",
    "phi_L, theta_L= result_L.x[3:5]\n",
    "Rot_L= result_L.x[5:]\n",
    "e_L = phi_to_e(phi_L,theta_L)"
   ]
  },
  {
   "cell_type": "code",
   "execution_count": 9,
   "id": "55ac538a",
   "metadata": {},
   "outputs": [
    {
     "data": {
      "text/plain": [
       "array([-1.53071659e-16, -2.41526502e-16,  1.00000000e+00])"
      ]
     },
     "execution_count": 9,
     "metadata": {},
     "output_type": "execute_result"
    }
   ],
   "source": [
    "e_R"
   ]
  },
  {
   "cell_type": "code",
   "execution_count": 10,
   "id": "607c8733",
   "metadata": {},
   "outputs": [
    {
     "data": {
      "text/plain": [
       "array([-1.53071659e-16, -2.41526502e-16,  1.00000000e+00])"
      ]
     },
     "execution_count": 10,
     "metadata": {},
     "output_type": "execute_result"
    }
   ],
   "source": [
    "e_L"
   ]
  },
  {
   "cell_type": "code",
   "execution_count": 11,
   "id": "498dc115",
   "metadata": {},
   "outputs": [
    {
     "data": {
      "text/plain": [
       "(2.9055482669066606e-16, 4.9512552407128415e-17, 0.6734638980673009)"
      ]
     },
     "execution_count": 11,
     "metadata": {},
     "output_type": "execute_result"
    }
   ],
   "source": [
    "x2_L, y2_L, z2_L"
   ]
  },
  {
   "cell_type": "code",
   "execution_count": 12,
   "id": "2717c008",
   "metadata": {},
   "outputs": [
    {
     "data": {
      "text/plain": [
       "(2.9055482669066606e-16, 4.9512552407128415e-17, 0.6734638980673009)"
      ]
     },
     "execution_count": 12,
     "metadata": {},
     "output_type": "execute_result"
    }
   ],
   "source": [
    "x2_R, y2_R, z2_R"
   ]
  },
  {
   "cell_type": "code",
   "execution_count": 13,
   "id": "166a6826",
   "metadata": {
    "scrolled": true
   },
   "outputs": [
    {
     "data": {
      "text/plain": [
       "     message: `xtol` termination condition is satisfied.\n",
       "     success: True\n",
       "      status: 3\n",
       "         fun: [-4.333e-16 -6.888e-17 ...  7.809e-17  8.882e-16]\n",
       "           x: [ 2.906e-16  4.951e-17 ...  2.436e+00  2.468e+00]\n",
       "        cost: 2.9417875870550497e-29\n",
       "         jac: [[-9.261e-01 -3.242e-01 ...  0.000e+00  0.000e+00]\n",
       "               [ 3.242e-01 -9.261e-01 ...  0.000e+00  0.000e+00]\n",
       "               ...\n",
       "               [-1.455e+00 -5.092e-01 ...  0.000e+00 -4.247e-09]\n",
       "               [ 0.000e+00  0.000e+00 ...  0.000e+00  1.708e+08]]\n",
       "        grad: [ 2.222e-15  1.620e-14 ... -1.776e-15  1.517e-07]\n",
       "  optimality: 2.6053137756554904e-06\n",
       " active_mask: [0 0 ... 0 0]\n",
       "        nfev: 22\n",
       "        njev: 7"
      ]
     },
     "execution_count": 13,
     "metadata": {},
     "output_type": "execute_result"
    }
   ],
   "source": [
    "result_R "
   ]
  },
  {
   "cell_type": "code",
   "execution_count": 14,
   "id": "6c40f067",
   "metadata": {},
   "outputs": [
    {
     "data": {
      "text/plain": [
       "     message: `xtol` termination condition is satisfied.\n",
       "     success: True\n",
       "      status: 3\n",
       "         fun: [-4.333e-16 -6.888e-17 ...  7.809e-17  8.882e-16]\n",
       "           x: [ 2.906e-16  4.951e-17 ...  2.436e+00  2.468e+00]\n",
       "        cost: 2.9417875870550497e-29\n",
       "         jac: [[-9.261e-01 -3.242e-01 ...  0.000e+00  0.000e+00]\n",
       "               [ 3.242e-01 -9.261e-01 ...  0.000e+00  0.000e+00]\n",
       "               ...\n",
       "               [-1.455e+00 -5.092e-01 ...  0.000e+00 -4.247e-09]\n",
       "               [ 0.000e+00  0.000e+00 ...  0.000e+00  1.708e+08]]\n",
       "        grad: [ 2.222e-15  1.620e-14 ... -1.776e-15  1.517e-07]\n",
       "  optimality: 2.6053137756554904e-06\n",
       " active_mask: [0 0 ... 0 0]\n",
       "        nfev: 22\n",
       "        njev: 7"
      ]
     },
     "execution_count": 14,
     "metadata": {},
     "output_type": "execute_result"
    }
   ],
   "source": [
    "result_L"
   ]
  },
  {
   "cell_type": "code",
   "execution_count": 15,
   "id": "f69b7f2d",
   "metadata": {},
   "outputs": [],
   "source": [
    "r4=R.from_rotvec([x2_L, y2_L, z2_L],degrees=False)"
   ]
  },
  {
   "cell_type": "code",
   "execution_count": 16,
   "id": "0ce82773",
   "metadata": {},
   "outputs": [
    {
     "data": {
      "text/plain": [
       "array([1.90833281e-14, 0.00000000e+00, 3.85866390e+01])"
      ]
     },
     "execution_count": 16,
     "metadata": {},
     "output_type": "execute_result"
    }
   ],
   "source": [
    "r4.as_euler('xyz', degrees=True)"
   ]
  },
  {
   "cell_type": "code",
   "execution_count": 17,
   "id": "19a73b94",
   "metadata": {},
   "outputs": [],
   "source": [
    "r5=R.from_rotvec([x2_R, y2_R, z2_R],degrees=False)"
   ]
  },
  {
   "cell_type": "code",
   "execution_count": 18,
   "id": "023a7ec0",
   "metadata": {},
   "outputs": [
    {
     "data": {
      "text/plain": [
       "array([1.90833281e-14, 0.00000000e+00, 3.85866390e+01])"
      ]
     },
     "execution_count": 18,
     "metadata": {},
     "output_type": "execute_result"
    }
   ],
   "source": [
    "r5.as_euler('xyz', degrees=True)"
   ]
  },
  {
   "cell_type": "code",
   "execution_count": null,
   "id": "c3de9c53",
   "metadata": {},
   "outputs": [],
   "source": []
  },
  {
   "cell_type": "code",
   "execution_count": null,
   "id": "205ec98b",
   "metadata": {},
   "outputs": [],
   "source": []
  },
  {
   "cell_type": "code",
   "execution_count": null,
   "id": "5ba8fc03",
   "metadata": {},
   "outputs": [],
   "source": []
  },
  {
   "cell_type": "code",
   "execution_count": null,
   "id": "381e56d1",
   "metadata": {},
   "outputs": [],
   "source": []
  },
  {
   "cell_type": "code",
   "execution_count": null,
   "id": "b91be42a",
   "metadata": {},
   "outputs": [],
   "source": []
  }
 ],
 "metadata": {
  "kernelspec": {
   "display_name": "yolo_torch",
   "language": "python",
   "name": "yolo_torch"
  },
  "language_info": {
   "codemirror_mode": {
    "name": "ipython",
    "version": 3
   },
   "file_extension": ".py",
   "mimetype": "text/x-python",
   "name": "python",
   "nbconvert_exporter": "python",
   "pygments_lexer": "ipython3",
   "version": "3.10.15"
  }
 },
 "nbformat": 4,
 "nbformat_minor": 5
}
