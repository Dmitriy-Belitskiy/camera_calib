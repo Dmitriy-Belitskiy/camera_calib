{
 "cells": [
  {
   "cell_type": "code",
   "execution_count": 1,
   "id": "4c2c3ec3",
   "metadata": {},
   "outputs": [],
   "source": [
    "import os\n",
    "import numpy as np\n",
    "import matplotlib.pyplot as plt\n",
    "from scipy.spatial.transform import Rotation as R\n",
    "\n",
    "from scipy.optimize import least_squares\n"
   ]
  },
  {
   "cell_type": "code",
   "execution_count": 2,
   "id": "dc5f2d8a",
   "metadata": {},
   "outputs": [],
   "source": [
    "# Function to read .cam file and extract translation vector and rotation matrix\n",
    "def read_cam_file(file_path):\n",
    "    with open(file_path, 'r') as f:\n",
    "        lines = f.readlines()\n",
    "        # Extract translation vector and rotation matrix from the first line\n",
    "        first_line = list(map(float, lines[0].split()))\n",
    "        translation_vector = np.array(first_line[:3])\n",
    "        rotation_matrix = np.array(first_line[3:]).reshape(3, 3)\n",
    "    return translation_vector, rotation_matrix\n",
    "\n",
    "# Get all .cam files in the current folder\n",
    "cam_files = [f for f in os.listdir('.') if f.endswith('.cam')]\n",
    "\n",
    "# Separate L and R files\n",
    "l_files = sorted([f for f in cam_files if '_L' in f])\n",
    "r_files = sorted([f for f in cam_files if '_R' in f])\n",
    "\n",
    "# Arrays to store rotation vectors\n",
    "rotation_vectors_L = []\n",
    "rotation_vectors_R = []\n",
    "\n",
    "rotation_matrix_L=[]\n",
    "rotation_matrix_R=[]\n",
    "# Process L files\n",
    "for l_file in l_files:\n",
    "    _, rotation_matrix = read_cam_file(l_file)\n",
    "    # Convert rotation matrix to rotation vector\n",
    "    rotation_matrix_L.append(rotation_matrix)\n",
    "    \n",
    "    rotation_vector = R.from_matrix(rotation_matrix.T).as_rotvec()\n",
    "    rotation_vectors_L.append(rotation_vector)\n",
    "\n",
    "# Process R files\n",
    "for r_file in r_files:\n",
    "    _, rotation_matrix = read_cam_file(r_file)\n",
    "    rotation_matrix_R.append(rotation_matrix)\n",
    "    # Convert rotation matrix to rotation vector\n",
    "    rotation_vector = R.from_matrix(rotation_matrix.T).as_rotvec()\n",
    "    rotation_vectors_R.append(rotation_vector)\n",
    "\n",
    "# Convert to numpy arrays\n",
    "rotation_vectors_L = np.array(rotation_vectors_L)\n",
    "rotation_vectors_R = np.array(rotation_vectors_R)\n",
    "\n",
    "rotation_matrix_L=np.array(rotation_matrix_L)\n",
    "rotation_matrix_R=np.array(rotation_matrix_R)"
   ]
  },
  {
   "cell_type": "code",
   "execution_count": 12,
   "id": "c458cb41",
   "metadata": {},
   "outputs": [],
   "source": [
    "def residuals(params, R_0):\n",
    "    N = R_0.shape[0]  # Number of cameras\n",
    "    a, b = params[:2]  # Linear combination parameters\n",
    "    phi, theta = params[2:4]  # Unit vector parameters for e\n",
    "    Rot = params[4:]  # Rotation angles for each camera\n",
    "\n",
    "    # Compute the unit vector e (axis of second rotation)\n",
    "    e = phi_to_e(phi, theta)\n",
    "\n",
    "    # Orthonormal basis vectors u and v orthogonal to e\n",
    "    u, v = orthonormal_basis(e)\n",
    "\n",
    "    # Compute r0 as a linear combination of u and v\n",
    "    r0 = a * u + b * v\n",
    "\n",
    "    residuals = []\n",
    "\n",
    "    for i in range(N):\n",
    "        R_i = R_0[i]\n",
    "\n",
    "        # Compute the second rotation r1\n",
    "        r1 = R.from_rotvec(e * Rot[i])\n",
    "\n",
    "        # Combine rotations: r3 = r1 * r0\n",
    "        r0_rotation = R.from_rotvec(r0)\n",
    "        r3 = r1 * r0_rotation\n",
    "\n",
    "        pred = r3.as_rotvec()\n",
    "\n",
    "        residuals.append(R_i - pred)\n",
    "\n",
    "    return np.array(residuals).flatten()\n",
    "\n",
    "def phi_to_e(phi, theta):\n",
    "    \"\"\"\n",
    "    Compute the unit vector e from spherical coordinates phi and theta.\n",
    "    \"\"\"\n",
    "    e1 = np.sin(phi) * np.cos(theta)\n",
    "    e2 = np.sin(phi) * np.sin(theta)\n",
    "    e3 = np.cos(phi)\n",
    "    return np.array([e1, e2, e3])\n",
    "\n",
    "def orthonormal_basis(e):\n",
    "    \"\"\"\n",
    "    Compute two orthonormal basis vectors u and v in the plane orthogonal to e.\n",
    "    \"\"\"\n",
    "    # Choose an arbitrary vector not parallel to e\n",
    "    arbitrary = np.array([1, 0, 0]) if np.abs(e[0]) < 0.9 else np.array([0, 1, 0])\n",
    "\n",
    "    # Compute u: orthogonal to e\n",
    "    u = np.cross(e, arbitrary)\n",
    "    u /= np.linalg.norm(u)\n",
    "\n",
    "    # Compute v: orthogonal to both e and u\n",
    "    v = np.cross(e, u)\n",
    "    v /= np.linalg.norm(v)\n",
    "\n",
    "    return u, v\n",
    "\n",
    "# Example usage:\n",
    "\n",
    "# Initial guesses for parameters\n",
    "a_init, b_init = 0.0, 0.0\n",
    "phi_init, theta_init = np.pi / 4, np.pi / 4\n",
    "Rot_init = np.ones(rotation_vectors_L.shape[0])\n",
    "\n",
    "params_init = np.hstack(([a_init, b_init, phi_init, theta_init], Rot_init))\n",
    "\n",
    "# Optimize for rotation vectors R_L\n",
    "result_L = least_squares(\n",
    "    residuals,\n",
    "    params_init,\n",
    "    args=(rotation_vectors_L,),\n",
    "    method='trf',\n",
    "    bounds=(-2 * np.pi, 2 * np.pi)\n",
    ")\n",
    "\n",
    "# Optimize for rotation vectors R_R\n",
    "result_R = least_squares(\n",
    "    residuals,\n",
    "    params_init,\n",
    "    args=(rotation_vectors_R,),\n",
    "    method='trf',\n",
    "    bounds=(-2 * np.pi, 2 * np.pi)\n",
    ")\n",
    "\n",
    "\n",
    "\n",
    "a_u, b_u = result_R.x[:2]\n",
    "phi_R, theta_R = result_R.x[3:5]\n",
    "Rot_R = result_R.x[5:]\n",
    "e_R = phi_to_e(phi_R,theta_R)\n",
    "\n",
    "\n",
    "\n",
    "x2_L, y2_L, z2_L = result_L.x[:3]\n",
    "phi_L, theta_L= result_L.x[3:5]\n",
    "Rot_L= result_L.x[5:]\n",
    "e_L = phi_to_e(phi_L,theta_L)"
   ]
  },
  {
   "cell_type": "code",
   "execution_count": 13,
   "id": "93cb2571",
   "metadata": {},
   "outputs": [],
   "source": [
    "# # Plot the rotation vectors in 3D\n",
    "# fig = plt.figure()\n",
    "# ax = fig.add_subplot(111, projection='3d')\n",
    "\n",
    "# # Plot L vectors\n",
    "# # ax.quiver(\n",
    "# #     np.zeros(len(rotation_vectors_R)), np.zeros(len(rotation_vectors_R)), np.zeros(len(rotation_vectors_R)),\n",
    "# #     rotation_vectors_R[:, 0], rotation_vectors_R[:, 1], rotation_vectors_R[:, 2],\n",
    "# #     color='blue', label='L Images'\n",
    "# # )\n",
    "\n",
    "# # Plot R vectors\n",
    "# ax.quiver(\n",
    "#     0, 0, 0,e_R[0], e_R[1], e_R[2],color='red', label='R Images'\n",
    "# )\n",
    "\n",
    "\n",
    "# ax.quiver(\n",
    "#     0, 0, 0,e_L[0], e_L[1], e_L[2],color='blue', label='R Images'\n",
    "# )\n",
    "# # Add labels and legend\n",
    "# ax.set_xlabel('X')\n",
    "# ax.set_ylabel('Y')\n",
    "# ax.set_zlabel('Z')\n",
    "# ax.legend()\n",
    "# ax.set_title('Rotation Vectors for L and R Images')\n",
    "\n",
    "# # Show the plot\n",
    "# plt.show()"
   ]
  },
  {
   "cell_type": "code",
   "execution_count": 14,
   "id": "c9b9202a",
   "metadata": {},
   "outputs": [
    {
     "data": {
      "text/plain": [
       "array([-1.61372453e-04,  9.99999919e-01,  3.69886449e-04])"
      ]
     },
     "execution_count": 14,
     "metadata": {},
     "output_type": "execute_result"
    }
   ],
   "source": [
    "e_R"
   ]
  },
  {
   "cell_type": "code",
   "execution_count": 15,
   "id": "ceda64c0",
   "metadata": {},
   "outputs": [
    {
     "data": {
      "text/plain": [
       "array([-0.02719139,  0.9993857 , -0.0221098 ])"
      ]
     },
     "execution_count": 15,
     "metadata": {},
     "output_type": "execute_result"
    }
   ],
   "source": [
    "e_L"
   ]
  },
  {
   "cell_type": "code",
   "execution_count": 16,
   "id": "3472af20",
   "metadata": {},
   "outputs": [
    {
     "data": {
      "text/plain": [
       "(-0.00030437410304390744, 0.10950416079732644, -5.972483066974721e-05)"
      ]
     },
     "execution_count": 16,
     "metadata": {},
     "output_type": "execute_result"
    }
   ],
   "source": [
    "x2_R, y2_R, z2_R"
   ]
  },
  {
   "cell_type": "code",
   "execution_count": 17,
   "id": "3c03cab5",
   "metadata": {},
   "outputs": [
    {
     "data": {
      "text/plain": [
       "(-0.02290567466889206, 0.11985868127703768, 0.02542579069207047)"
      ]
     },
     "execution_count": 17,
     "metadata": {},
     "output_type": "execute_result"
    }
   ],
   "source": [
    "x2_L, y2_L, z2_L"
   ]
  },
  {
   "cell_type": "code",
   "execution_count": 18,
   "id": "98d6496d",
   "metadata": {},
   "outputs": [],
   "source": [
    "rot,_ = R.align_vectors([x2_R, y2_R, z2_R],[x2_L, y2_L, z2_L])"
   ]
  },
  {
   "cell_type": "code",
   "execution_count": 19,
   "id": "40e12813",
   "metadata": {},
   "outputs": [],
   "source": [
    "c1=rot.as_rotvec()"
   ]
  },
  {
   "cell_type": "code",
   "execution_count": 6,
   "id": "e9c0fa6f",
   "metadata": {},
   "outputs": [
    {
     "ename": "NameError",
     "evalue": "name 'c1' is not defined",
     "output_type": "error",
     "traceback": [
      "\u001b[0;31m---------------------------------------------------------------------------\u001b[0m",
      "\u001b[0;31mNameError\u001b[0m                                 Traceback (most recent call last)",
      "Cell \u001b[0;32mIn[6], line 1\u001b[0m\n\u001b[0;32m----> 1\u001b[0m np\u001b[38;5;241m.\u001b[39mlinalg\u001b[38;5;241m.\u001b[39mnorm(\u001b[43mc1\u001b[49m)\u001b[38;5;241m*\u001b[39m\u001b[38;5;241m180\u001b[39m\u001b[38;5;241m/\u001b[39m\u001b[38;5;241m3.14\u001b[39m\n",
      "\u001b[0;31mNameError\u001b[0m: name 'c1' is not defined"
     ]
    }
   ],
   "source": [
    "np.linalg.norm(c1)*180/3.14"
   ]
  },
  {
   "cell_type": "code",
   "execution_count": 24,
   "id": "e8ceadf3",
   "metadata": {},
   "outputs": [
    {
     "data": {
      "text/plain": [
       "array([-1.76976947e-02,  6.27412563e+00, -4.39535927e-03])"
      ]
     },
     "execution_count": 24,
     "metadata": {},
     "output_type": "execute_result"
    }
   ],
   "source": [
    "r6=R.from_rotvec([x2_R, y2_R, z2_R])\n",
    "r6.as_euler('xyz',degrees=True)"
   ]
  },
  {
   "cell_type": "code",
   "execution_count": 25,
   "id": "434a92fd",
   "metadata": {},
   "outputs": [
    {
     "data": {
      "text/plain": [
       "array([-1.2307749 ,  6.88283191,  1.38458369])"
      ]
     },
     "execution_count": 25,
     "metadata": {},
     "output_type": "execute_result"
    }
   ],
   "source": [
    "r7=R.from_rotvec([x2_L, y2_L, z2_L])\n",
    "r7.as_euler('xyz',degrees=True)"
   ]
  },
  {
   "cell_type": "code",
   "execution_count": 40,
   "id": "540bda12",
   "metadata": {},
   "outputs": [
    {
     "data": {
      "text/plain": [
       "array([[-1.74982826e+02,  4.92205877e+01, -1.74583657e+02],\n",
       "       [-1.74963102e+02,  4.94107865e+01, -1.74564484e+02],\n",
       "       [-1.74930474e+02,  4.97217666e+01, -1.74532756e+02],\n",
       "       [-1.74884072e+02,  5.01563362e+01, -1.74487608e+02],\n",
       "       [-1.74823884e+02,  5.07069488e+01, -1.74429004e+02],\n",
       "       [-1.74749081e+02,  5.13714356e+01, -1.74356106e+02],\n",
       "       [-1.74658493e+02,  5.21480450e+01, -1.74267734e+02],\n",
       "       [-1.74551225e+02,  5.30299741e+01, -1.74162971e+02],\n",
       "       [-1.74424427e+02,  5.40230541e+01, -1.74038980e+02],\n",
       "       [-1.74275374e+02,  5.51268852e+01, -1.73893028e+02],\n",
       "       [-1.74103445e+02,  5.63218062e+01, -1.73724434e+02],\n",
       "       [-1.73905373e+02,  5.76039589e+01, -1.73529920e+02],\n",
       "       [-1.73673534e+02,  5.89894642e+01, -1.73301902e+02],\n",
       "       [-1.73414363e+02,  6.04079211e+01, -1.73046616e+02],\n",
       "       [-1.73086373e+02,  6.20311424e+01, -1.72723043e+02],\n",
       "       [-1.72714673e+02,  6.36718716e+01, -1.72355780e+02],\n",
       "       [-1.72270021e+02,  6.54019531e+01, -1.71915778e+02],\n",
       "       [-1.71734615e+02,  6.72088370e+01, -1.71385200e+02],\n",
       "       [-1.71080338e+02,  6.90888438e+01, -1.70735920e+02],\n",
       "       [-1.70256331e+02,  7.10585123e+01, -1.69917125e+02],\n",
       "       [-1.69212590e+02,  7.30776839e+01, -1.68878710e+02],\n",
       "       [-1.67797439e+02,  7.52122523e+01, -1.67469179e+02],\n",
       "       [-1.65923845e+02,  7.73220499e+01, -1.65601143e+02],\n",
       "       [-1.63167331e+02,  7.95077789e+01, -1.62850417e+02],\n",
       "       [-1.58867211e+02,  8.17032763e+01, -1.58556190e+02],\n",
       "       [-1.51583035e+02,  8.38152383e+01, -1.51277880e+02],\n",
       "       [-1.36096077e+02,  8.58305438e+01, -1.35797123e+02],\n",
       "       [-1.01162391e+02,  8.71071851e+01, -1.00869653e+02],\n",
       "       [-5.46778455e+01,  8.65905918e+01, -5.43915442e+01],\n",
       "       [-3.08613057e+01,  8.46915598e+01, -3.05815839e+01],\n",
       "       [-2.03446419e+01,  8.23428281e+01, -2.00716060e+01],\n",
       "       [-1.48022826e+01,  7.98265646e+01, -1.45360379e+01],\n",
       "       [-1.14613224e+01,  7.72444499e+01, -1.12019193e+01],\n",
       "       [-9.24554652e+00,  7.46343680e+01, -8.99301841e+00],\n",
       "       [-7.63136408e+00,  7.19312129e+01, -7.38595658e+00],\n",
       "       [-6.40395224e+00,  6.91389252e+01, -6.16592781e+00],\n",
       "       [-5.47370786e+00,  6.63756700e+01, -5.24303655e+00],\n",
       "       [-4.72566830e+00,  6.35678102e+01, -4.50253216e+00],\n",
       "       [-4.11154192e+00,  6.07217625e+01, -3.89612286e+00],\n",
       "       [-3.60198700e+00,  5.78643972e+01, -3.39440990e+00],\n",
       "       [-3.16999265e+00,  5.49833472e+01, -2.97043183e+00],\n",
       "       [-2.80473833e+00,  5.21309833e+01, -2.61323587e+00],\n",
       "       [-2.48388987e+00,  4.92346894e+01, -2.30070845e+00],\n",
       "       [-2.20369462e+00,  4.63415436e+01, -2.02897984e+00],\n",
       "       [-1.95607572e+00,  4.34466845e+01, -1.79000336e+00],\n",
       "       [-1.73489098e+00,  4.05446518e+01, -1.57767108e+00],\n",
       "       [-1.53603397e+00,  3.76394291e+01, -1.38788386e+00],\n",
       "       [-1.35681543e+00,  3.47454066e+01, -1.21792629e+00],\n",
       "       [-1.20218059e+00,  3.20106416e+01, -1.07226927e+00],\n",
       "       [-1.05245715e+00,  2.91279039e+01, -9.32269306e-01],\n",
       "       [-9.13516963e-01,  2.62237938e+01, -8.03418782e-01],\n",
       "       [-7.88788918e-01,  2.34104931e+01, -6.88772068e-01],\n",
       "       [-6.70918154e-01,  2.05567725e+01, -5.81464462e-01],\n",
       "       [-5.63594960e-01,  1.77808609e+01, -4.84771451e-01],\n",
       "       [-4.59162617e-01,  1.49062277e+01, -3.91750262e-01],\n",
       "       [-3.64608397e-01,  1.21473434e+01, -3.08568655e-01],\n",
       "       [-2.80041899e-01,  9.54814071e+00, -2.35128049e-01],\n",
       "       [-1.96681444e-01,  6.85963414e+00, -1.63733766e-01],\n",
       "       [-1.17989223e-01,  4.20324370e+00, -9.73637390e-02],\n",
       "       [-4.39894688e-02,  1.59821893e+00, -3.59741844e-02],\n",
       "       [ 2.69267725e-02, -9.96613280e-01,  2.18147170e-02],\n",
       "       [ 9.35705325e-02, -3.52288567e+00,  7.50838290e-02],\n",
       "       [ 1.55930960e-01, -5.96304560e+00,  1.23916640e-01],\n",
       "       [ 2.15736029e-01, -8.37103898e+00,  1.69730844e-01],\n",
       "       [ 2.71962131e-01, -1.06935626e+01,  2.11802450e-01],\n",
       "       [ 3.26150271e-01, -1.29832992e+01,  2.51341719e-01],\n",
       "       [ 3.79098150e-01, -1.52665144e+01,  2.88931164e-01],\n",
       "       [ 4.28912640e-01, -1.74529372e+01,  3.23268126e-01],\n",
       "       [ 4.76430555e-01, -1.95699627e+01,  3.55013280e-01],\n",
       "       [ 5.21427918e-01, -2.15997247e+01,  3.84092963e-01],\n",
       "       [ 5.65718801e-01, -2.36180055e+01,  4.11711690e-01],\n",
       "       [ 6.07127695e-01, -2.55199720e+01,  4.36566461e-01],\n",
       "       [ 6.45627424e-01, -2.72983375e+01,  4.58780028e-01],\n",
       "       [ 6.82957785e-01, -2.90290672e+01,  4.79443650e-01],\n",
       "       [ 7.19660770e-01, -3.07340117e+01,  4.98870441e-01],\n",
       "       [ 7.53249136e-01, -3.22946462e+01,  5.15833475e-01],\n",
       "       [ 7.85252438e-01, -3.37797404e+01,  5.31234705e-01],\n",
       "       [ 8.15051755e-01, -3.51590025e+01,  5.44877074e-01],\n",
       "       [ 8.43764686e-01, -3.64830395e+01,  5.57358742e-01],\n",
       "       [ 8.69873777e-01, -3.76814110e+01,  5.68122332e-01],\n",
       "       [ 8.93800478e-01, -3.87738380e+01,  5.77479681e-01],\n",
       "       [ 9.15139062e-01, -3.97426290e+01,  5.85404426e-01],\n",
       "       [ 9.34050321e-01, -4.05963299e+01,  5.92088193e-01],\n",
       "       [ 9.51396849e-01, -4.13749288e+01,  5.97932443e-01],\n",
       "       [ 9.66402524e-01, -4.20447179e+01,  6.02762886e-01],\n",
       "       [ 9.79986858e-01, -4.26478628e+01,  6.06952864e-01],\n",
       "       [ 9.88590094e-01, -4.30281906e+01,  6.09515463e-01],\n",
       "       [ 9.95694530e-01, -4.33412540e+01,  6.11577932e-01],\n",
       "       [ 1.00006941e+00, -4.35335727e+01,  6.12823679e-01],\n",
       "       [ 1.00148468e+00, -4.35957105e+01,  6.13222694e-01]])"
      ]
     },
     "execution_count": 40,
     "metadata": {},
     "output_type": "execute_result"
    }
   ],
   "source": [
    "r8=R.from_rotvec((np.expand_dims(e_R, axis=1)*Rot_R).T )\n",
    "r8.as_euler('xyz',degrees=True)\n",
    "\n",
    "r9=R.from_rotvec((np.expand_dims(e_L, axis=1)*Rot_R).T )\n",
    "r9.as_euler('xyz',degrees=True)"
   ]
  },
  {
   "cell_type": "code",
   "execution_count": 38,
   "id": "ef00945a",
   "metadata": {},
   "outputs": [
    {
     "data": {
      "text/plain": [
       "     message: `gtol` termination condition is satisfied.\n",
       "     success: True\n",
       "      status: 1\n",
       "         fun: [-1.958e-04  2.443e-08 ... -1.107e-07  1.502e-04]\n",
       "           x: [-3.044e-04  1.095e-01 ... -7.602e-01 -7.612e-01]\n",
       "        cost: 7.447057520225306e-06\n",
       "         jac: [[-5.360e-01  5.638e-04 ... -0.000e+00 -0.000e+00]\n",
       "               [-4.927e-04 -1.000e+00 ... -0.000e+00 -0.000e+00]\n",
       "               ...\n",
       "               [ 1.855e-04 -1.000e+00 ... -0.000e+00 -1.000e+00]\n",
       "               [-3.780e-01 -9.444e-05 ... -0.000e+00 -4.975e-04]]\n",
       "        grad: [-2.293e-11  1.922e-11 ... -1.074e-12  2.479e-12]\n",
       "  optimality: 1.4411023311237154e-10\n",
       " active_mask: [0 0 ... 0 0]\n",
       "        nfev: 11\n",
       "        njev: 10"
      ]
     },
     "execution_count": 38,
     "metadata": {},
     "output_type": "execute_result"
    }
   ],
   "source": [
    "result_R"
   ]
  },
  {
   "cell_type": "code",
   "execution_count": 39,
   "id": "8aac0511",
   "metadata": {},
   "outputs": [
    {
     "data": {
      "text/plain": [
       "     message: `gtol` termination condition is satisfied.\n",
       "     success: True\n",
       "      status: 1\n",
       "         fun: [-7.817e-05  1.431e-06 ... -4.454e-06 -2.620e-04]\n",
       "           x: [-2.291e-02  1.199e-01 ... -7.899e-01 -7.910e-01]\n",
       "        cost: 2.1135528613601862e-05\n",
       "         jac: [[-5.341e-01 -1.804e-02 ... -0.000e+00 -0.000e+00]\n",
       "               [ 2.921e-02 -9.996e-01 ... -0.000e+00 -0.000e+00]\n",
       "               ...\n",
       "               [-4.419e-03 -1.000e+00 ... -0.000e+00 -9.999e-01]\n",
       "               [-3.923e-01 -8.100e-03 ... -0.000e+00  8.427e-03]]\n",
       "        grad: [-2.598e-10 -6.297e-12 ... -7.887e-13  5.223e-13]\n",
       "  optimality: 2.0458034625815945e-09\n",
       " active_mask: [0 0 ... 0 0]\n",
       "        nfev: 15\n",
       "        njev: 11"
      ]
     },
     "execution_count": 39,
     "metadata": {},
     "output_type": "execute_result"
    }
   ],
   "source": [
    "result_L"
   ]
  },
  {
   "cell_type": "code",
   "execution_count": 44,
   "id": "59060ab6",
   "metadata": {},
   "outputs": [
    {
     "data": {
      "text/plain": [
       "array([[-8.52013691e-04,  2.38979862e+00,  1.09378126e-03],\n",
       "       [-1.38795221e-03,  2.38647083e+00,  6.78085613e-04],\n",
       "       [-1.19212910e-03,  2.38102923e+00,  8.69168486e-04],\n",
       "       [-1.02872609e-03,  2.37342475e+00,  9.90308920e-04],\n",
       "       [-8.33128301e-04,  2.36378907e+00,  1.12099840e-03],\n",
       "       [-1.56447642e-03,  2.35215992e+00,  6.72165547e-04],\n",
       "       [-1.26539628e-03,  2.33856686e+00,  8.20301943e-04],\n",
       "       [-9.19366096e-04,  2.32312847e+00,  1.02151267e-03],\n",
       "       [-8.80623686e-04,  2.30574182e+00,  1.08631790e-03],\n",
       "       [-7.84006049e-04,  2.28641309e+00,  4.07433912e-04],\n",
       "       [-9.02032452e-04,  2.26548396e+00,  1.03098356e-03],\n",
       "       [-1.09316257e-03,  2.24302153e+00,  9.13737094e-04],\n",
       "       [-1.09555676e-03,  2.21874069e+00,  9.15240757e-04],\n",
       "       [-9.01831575e-04,  2.19387287e+00,  1.07015546e-03],\n",
       "       [-9.44063482e-04,  2.16540176e+00,  9.50458844e-04],\n",
       "       [-8.31598061e-04,  2.13660613e+00,  9.50673550e-04],\n",
       "       [-5.98458038e-04,  2.10621945e+00,  1.08632387e-03],\n",
       "       [-5.62187474e-04,  2.07445312e+00,  1.09715361e-03],\n",
       "       [-5.16591459e-04,  2.04135908e+00,  1.08633129e-03],\n",
       "       [-4.03181513e-04,  2.00662654e+00,  1.11107991e-03],\n",
       "       [-4.34060171e-04,  1.97093448e+00,  1.06743241e-03],\n",
       "       [-5.49049297e-04,  1.93306639e+00,  1.20928545e-03],\n",
       "       [-3.75545795e-04,  1.89542955e+00,  1.30364249e-03],\n",
       "       [-3.68475433e-04,  1.85607805e+00,  1.07474510e-03],\n",
       "       [-3.53614817e-04,  1.81586500e+00,  1.04014591e-03],\n",
       "       [-2.78401033e-04,  1.77573430e+00,  6.63768484e-04],\n",
       "       [-5.32991712e-04,  1.73322474e+00,  1.23231928e-03],\n",
       "       [-4.05241642e-04,  1.69056428e+00,  9.47525677e-04],\n",
       "       [-3.36012219e-04,  1.64638184e+00,  9.13746881e-04],\n",
       "       [-4.27582972e-04,  1.60125014e+00,  1.08654569e-03],\n",
       "       [-2.87449576e-04,  1.55547090e+00,  9.30968923e-04],\n",
       "       [-4.39064824e-04,  1.50910394e+00,  1.08831322e-03],\n",
       "       [-3.30905541e-04,  1.46257821e+00,  1.03721410e-03],\n",
       "       [-3.92837030e-04,  1.41606163e+00,  1.04197308e-03],\n",
       "       [-7.76472881e-05,  1.36818464e+00,  7.33844677e-04],\n",
       "       [-1.99744426e-04,  1.31892042e+00,  8.54690353e-04],\n",
       "       [-1.67177315e-04,  1.27029219e+00,  5.98953444e-04],\n",
       "       [-1.92300595e-04,  1.22096437e+00,  5.58986384e-04],\n",
       "       [-1.82802442e-04,  1.17102805e+00,  5.41219033e-04],\n",
       "       [-4.53659667e-04,  1.12093928e+00,  7.09943386e-04],\n",
       "       [-3.76468217e-04,  1.07047090e+00,  5.71530799e-04],\n",
       "       [-2.74917313e-04,  1.02053197e+00,  5.03532993e-04],\n",
       "       [-1.81224945e-04,  9.69845552e-01,  4.01464123e-04],\n",
       "       [-3.01589173e-04,  9.19231526e-01,  4.44119119e-04],\n",
       "       [-2.44911005e-04,  8.68601791e-01,  3.28477293e-04],\n",
       "       [-1.97130704e-04,  8.17858214e-01,  3.53931340e-04],\n",
       "       [-9.53657020e-05,  7.67068714e-01,  2.29574823e-04],\n",
       "       [-2.71928978e-04,  7.16483048e-01,  2.85235296e-04],\n",
       "       [-1.60374965e-05,  6.68687703e-01,  7.84334384e-05],\n",
       "       [-2.43425381e-04,  6.18311741e-01,  2.11138451e-04],\n",
       "       [-1.77534103e-04,  5.67567660e-01,  9.59659978e-05],\n",
       "       [ 1.56985353e-04,  5.18414638e-01,  4.51878479e-05],\n",
       "       [-2.24430316e-04,  4.68558991e-01,  1.36714829e-04],\n",
       "       [ 3.79509810e-05,  4.20066185e-01, -3.47303595e-05],\n",
       "       [-1.50806339e-04,  3.69851584e-01, -4.59402713e-05],\n",
       "       [ 5.79130054e-05,  3.21661516e-01, -6.98320271e-05],\n",
       "       [ 1.15445722e-05,  2.76262667e-01, -1.89415914e-04],\n",
       "       [-2.98202041e-04,  2.29305757e-01, -2.28359319e-04],\n",
       "       [-2.22465637e-04,  1.82911498e-01, -1.91828738e-04],\n",
       "       [-2.94701879e-04,  1.37415830e-01, -2.46715652e-04],\n",
       "       [-2.50003393e-04,  9.20994730e-02, -2.31832978e-04],\n",
       "       [-2.06107657e-04,  4.79816339e-02, -2.88319995e-04],\n",
       "       [-6.78703225e-05,  5.36857889e-03, -2.35355994e-04],\n",
       "       [-1.79907397e-04, -3.66818636e-02, -3.10814523e-04],\n",
       "       [ 1.34093667e-05, -7.72390124e-02, -2.37832039e-04],\n",
       "       [ 3.78067439e-06, -1.17222941e-01, -2.66498908e-04],\n",
       "       [-2.16306087e-04, -1.57092332e-01, -4.82046183e-04],\n",
       "       [-2.32705902e-04, -1.95271143e-01, -3.37784524e-04],\n",
       "       [-1.16434134e-04, -2.32237598e-01, -3.25192854e-04],\n",
       "       [ 1.15951643e-04, -2.67679855e-01, -3.59046793e-04],\n",
       "       [-7.43953042e-04, -3.02921366e-01, -7.19827668e-04],\n",
       "       [-1.39889746e-04, -3.36131586e-01, -4.13794647e-04],\n",
       "       [-1.58923809e-04, -3.67183362e-01, -3.96727235e-04],\n",
       "       [-1.89089595e-04, -3.97403198e-01, -3.09849818e-04],\n",
       "       [ 1.05327076e-04, -4.27172480e-01, -3.24101101e-04],\n",
       "       [-5.67612740e-04, -4.54422031e-01, -4.65312795e-04],\n",
       "       [-9.39007092e-04, -4.80352454e-01, -5.08429864e-04],\n",
       "       [-9.59417914e-04, -5.04434928e-01, -3.20826689e-04],\n",
       "       [-8.12292634e-04, -5.27552914e-01, -3.41922806e-04],\n",
       "       [-7.88889745e-04, -5.48476632e-01, -5.08469582e-04],\n",
       "       [-9.02329369e-04, -5.67550709e-01, -2.82730235e-04],\n",
       "       [-1.04849061e-03, -5.84465891e-01, -3.70076223e-04],\n",
       "       [-2.50510354e-04, -5.99371416e-01, -2.70698015e-04],\n",
       "       [-2.54437158e-04, -6.12965728e-01, -3.70953804e-04],\n",
       "       [-2.97339874e-04, -6.24660181e-01, -5.28275608e-04],\n",
       "       [-9.32031716e-04, -6.35191395e-01, -2.15298227e-04],\n",
       "       [-2.51049764e-04, -6.41831720e-01, -2.41975429e-04],\n",
       "       [-3.12259589e-04, -6.47297827e-01, -2.01369338e-04],\n",
       "       [-3.04541157e-04, -6.50655790e-01, -2.12898970e-05],\n",
       "       [-2.71406211e-04, -6.51740568e-01, -2.93878583e-04]])"
      ]
     },
     "execution_count": 44,
     "metadata": {},
     "output_type": "execute_result"
    }
   ],
   "source": [
    "rotation_vectors_R"
   ]
  },
  {
   "cell_type": "code",
   "execution_count": null,
   "id": "c48c8fe5",
   "metadata": {},
   "outputs": [],
   "source": []
  }
 ],
 "metadata": {
  "kernelspec": {
   "display_name": "yolo_torch",
   "language": "python",
   "name": "yolo_torch"
  },
  "language_info": {
   "codemirror_mode": {
    "name": "ipython",
    "version": 3
   },
   "file_extension": ".py",
   "mimetype": "text/x-python",
   "name": "python",
   "nbconvert_exporter": "python",
   "pygments_lexer": "ipython3",
   "version": "3.10.15"
  }
 },
 "nbformat": 4,
 "nbformat_minor": 5
}
